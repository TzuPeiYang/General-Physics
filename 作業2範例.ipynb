{
 "cells": [
  {
   "cell_type": "markdown",
   "metadata": {},
   "source": [
    "# 作業二範例"
   ]
  },
  {
   "cell_type": "markdown",
   "metadata": {},
   "source": [
    "### 1. <br>\t利用泰勒級數在$x_0=0$展開得到式$$f(x)=\\sum_{n=0}^{\\infty}{\\frac{f^{(n)}(0)}{n!}x^n}$$其中$f^{(n)}$為函數$f$的n次微分，$n!$為n階乘。我們將正弦函數代入，再限制級數上限到一個有限的數字N，便可以寫出式。請用此式子(設N為100)定義一個正弦函數。$$sin⁡(x)\\approx\\sum_{n=0}^N{\\frac{(-1)^n}{(2n+1)!}x^{(2n+1)}}$$<br>用此函數算出$sin(0)$、$sin(\\pi/3)$、$sin(\\pi/2)$、$sin(2\\pi/3)$、$sin(\\pi)$確認。\n"
   ]
  },
  {
   "cell_type": "code",
   "execution_count": 9,
   "metadata": {},
   "outputs": [],
   "source": [
    "def sin(x, N=100):\n",
    "    s = 0.\n",
    "    fact = 1.\n",
    "    for n in range(N + 1):\n",
    "        if 2*n + 1 == 1:\n",
    "            pass\n",
    "        else:\n",
    "            fact *= (2*n + 1.)*(2*n)\n",
    "        s += (-1)**n/fact*x**(2*n + 1)\n",
    "        \n",
    "    return s"
   ]
  },
  {
   "cell_type": "code",
   "execution_count": 10,
   "metadata": {},
   "outputs": [
    {
     "name": "stdout",
     "output_type": "stream",
     "text": [
      "0.0\n",
      "0.8660254037844382\n",
      "1.0000000000000002\n",
      "0.8660254037844397\n",
      "3.793078085744555e-15\n"
     ]
    }
   ],
   "source": [
    "pi = 3.14159265358979\n",
    "print(sin(0))\n",
    "print(sin(pi/3))\n",
    "print(sin(pi/2))\n",
    "print(sin(2*pi/3))\n",
    "print(sin(pi))"
   ]
  },
  {
   "cell_type": "code",
   "execution_count": null,
   "metadata": {},
   "outputs": [],
   "source": []
  }
 ],
 "metadata": {
  "kernelspec": {
   "display_name": "Python 3",
   "language": "python",
   "name": "python3"
  },
  "language_info": {
   "codemirror_mode": {
    "name": "ipython",
    "version": 3
   },
   "file_extension": ".py",
   "mimetype": "text/x-python",
   "name": "python",
   "nbconvert_exporter": "python",
   "pygments_lexer": "ipython3",
   "version": "3.7.7"
  }
 },
 "nbformat": 4,
 "nbformat_minor": 4
}
